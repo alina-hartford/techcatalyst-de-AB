{
 "cells": [
  {
   "cell_type": "code",
   "execution_count": 1,
   "metadata": {},
   "outputs": [],
   "source": [
    "import re"
   ]
  },
  {
   "cell_type": "code",
   "execution_count": 3,
   "metadata": {},
   "outputs": [
    {
     "name": "stdout",
     "output_type": "stream",
     "text": [
      "<re.Match object; span=(0, 5), match='hello'>\n"
     ]
    }
   ],
   "source": [
    "pattern = r\"hello\"\n",
    "text = \"hello World\"\n",
    "match = re.search(pattern,text)\n",
    "print(match)"
   ]
  },
  {
   "cell_type": "code",
   "execution_count": 5,
   "metadata": {},
   "outputs": [
    {
     "name": "stdout",
     "output_type": "stream",
     "text": [
      "['h', 'e', 'l', 'l', 'o']\n"
     ]
    }
   ],
   "source": [
    "pattern = r\"[a-z]\"\n",
    "text = \"hello\"\n",
    "match = re.findall(pattern, text)\n",
    "print(match)\n"
   ]
  },
  {
   "cell_type": "code",
   "execution_count": 10,
   "metadata": {},
   "outputs": [
    {
     "name": "stdout",
     "output_type": "stream",
     "text": [
      "['1', '2', '3']\n"
     ]
    }
   ],
   "source": [
    "pattern = r\"\\d\"\n",
    "text = \"order number 123\"\n",
    "match = re.findall(pattern, text)\n",
    "print(match)"
   ]
  },
  {
   "cell_type": "code",
   "execution_count": 13,
   "metadata": {},
   "outputs": [
    {
     "name": "stdout",
     "output_type": "stream",
     "text": [
      "['123', '1234', '1234', '12']\n"
     ]
    }
   ],
   "source": [
    "pattern = r\"\\d{2,4}\"\n",
    "text = \"123 12345 1234 12\"\n",
    "match = re.findall(pattern, text)\n",
    "print(match)"
   ]
  },
  {
   "cell_type": "code",
   "execution_count": 16,
   "metadata": {},
   "outputs": [
    {
     "name": "stdout",
     "output_type": "stream",
     "text": [
      "foo\n"
     ]
    }
   ],
   "source": [
    "#lookahead\n",
    "pattern = r\"foo(?=bar)\"\n",
    "text = \"foobar\"\n",
    "match = re.search(pattern, text)\n",
    "print(match.group())"
   ]
  },
  {
   "cell_type": "code",
   "execution_count": 15,
   "metadata": {},
   "outputs": [
    {
     "name": "stdout",
     "output_type": "stream",
     "text": [
      "bar\n"
     ]
    }
   ],
   "source": [
    "#lookbehind\n",
    "pattern = r\"(?<=foo)bar\"\n",
    "text = \"foobar\"\n",
    "match = re.search(pattern, text)\n",
    "print(match.group())"
   ]
  },
  {
   "cell_type": "code",
   "execution_count": 18,
   "metadata": {},
   "outputs": [
    {
     "name": "stdout",
     "output_type": "stream",
     "text": [
      "None\n",
      "123\n",
      "['123']\n",
      "there are *** apples\n"
     ]
    }
   ],
   "source": [
    "pattern = r\"\\d+\"\n",
    "text = \"there are 123 apples\"\n",
    "match = re.match(pattern, text)\n",
    "print(match)\n",
    "\n",
    "match = re.search(pattern, text)\n",
    "print(match.group())\n",
    "\n",
    "matches = re.findall(pattern, text)\n",
    "print(matches)\n",
    "\n",
    "replaced = re.sub(pattern, '***', text)\n",
    "print(replaced)"
   ]
  },
  {
   "cell_type": "code",
   "execution_count": 19,
   "metadata": {},
   "outputs": [],
   "source": [
    "email_text = \"\"\"\n",
    "Hi Team,\n",
    "\n",
    "Please note the following updates for our project:\n",
    "\n",
    "1. The next meeting is scheduled for 2024-08-15 at our main office. Please confirm your availability.\n",
    "2. We have received a new batch of feedback from clients. Some of the notable ones include:\n",
    "   - \"The service was excellent and the response time was quick.\"\n",
    "   - \"Please contact me at john.doe@example.com for further discussions.\"\n",
    "3. Our support team can be reached at:\n",
    "   - Phone: 123-456-7890 (John Doe)\n",
    "   - Phone: 987-654-3210 (Jane Smith)\n",
    "4. The project deadline has been moved to 2024-12-31. Ensure all deliverables are completed by then.\n",
    "5. For any urgent issues, please email support@project.com or call our hotline at 555-123-4567.\n",
    "6. The previous meeting minutes are available at 2023-07-25. Please review them before the next meeting.\n",
    "\n",
    "Best regards,\n",
    "Project Manager\n",
    "\"\"\""
   ]
  },
  {
   "cell_type": "code",
   "execution_count": 23,
   "metadata": {},
   "outputs": [
    {
     "name": "stdout",
     "output_type": "stream",
     "text": [
      "['2024-08-15', '2024-12-31', '2023-07-25']\n",
      "['123-456-7890', '987-654-3210', '555-123-4567']\n",
      "['john.doe@example.com', 'support@project.com']\n"
     ]
    }
   ],
   "source": [
    "# extract Dates: ['2024-08-15', '2024-12-31', '2023-07-25']\n",
    "date_pattern = r\"\\d{4}-\\d{2}-\\d{2}\"\n",
    "date_matches = re.findall(date_pattern, email_text)\n",
    "print(date_matches)\n",
    "\n",
    "# extract Phone Numbers: ['123-456-7890', '987-654-3210', '555-123-4567']\n",
    "phone_pattern = r\"\\d{3}-\\d{3}-\\d{4}\"\n",
    "phone_matches = re.findall(phone_pattern, email_text)\n",
    "print(phone_matches)\n",
    "\n",
    "# extract Emails: ['john.doe@example.com', 'support@project.com']\n",
    "email_pattern = r\"[a-z]{0,5}.[a-z]{0,5}@[a-z]{0,10}.[a-z]{0,3}\"\n",
    "email_matches = re.findall(email_pattern, email_text)\n",
    "print(email_matches)"
   ]
  },
  {
   "cell_type": "code",
   "execution_count": null,
   "metadata": {},
   "outputs": [],
   "source": []
  }
 ],
 "metadata": {
  "kernelspec": {
   "display_name": "Python 3",
   "language": "python",
   "name": "python3"
  },
  "language_info": {
   "codemirror_mode": {
    "name": "ipython",
    "version": 3
   },
   "file_extension": ".py",
   "mimetype": "text/x-python",
   "name": "python",
   "nbconvert_exporter": "python",
   "pygments_lexer": "ipython3",
   "version": "3.10.13"
  }
 },
 "nbformat": 4,
 "nbformat_minor": 2
}
