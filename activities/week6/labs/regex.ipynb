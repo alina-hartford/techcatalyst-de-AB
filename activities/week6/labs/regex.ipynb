{
 "cells": [
  {
   "cell_type": "markdown",
   "metadata": {},
   "source": [
    "# Regex using Python library"
   ]
  },
  {
   "cell_type": "code",
   "execution_count": 2,
   "metadata": {},
   "outputs": [],
   "source": [
    "import re"
   ]
  },
  {
   "cell_type": "code",
   "execution_count": 3,
   "metadata": {},
   "outputs": [
    {
     "name": "stdout",
     "output_type": "stream",
     "text": [
      "<re.Match object; span=(0, 5), match='hello'>\n"
     ]
    }
   ],
   "source": [
    "pattern = r\"hello\"\n",
    "text = \"hello World\"\n",
    "match = re.search(pattern,text)\n",
    "print(match)"
   ]
  },
  {
   "cell_type": "code",
   "execution_count": 5,
   "metadata": {},
   "outputs": [
    {
     "name": "stdout",
     "output_type": "stream",
     "text": [
      "['h', 'e', 'l', 'l', 'o']\n"
     ]
    }
   ],
   "source": [
    "pattern = r\"[a-z]\"\n",
    "text = \"hello\"\n",
    "match = re.findall(pattern, text)\n",
    "print(match)\n"
   ]
  },
  {
   "cell_type": "code",
   "execution_count": 10,
   "metadata": {},
   "outputs": [
    {
     "name": "stdout",
     "output_type": "stream",
     "text": [
      "['1', '2', '3']\n"
     ]
    }
   ],
   "source": [
    "pattern = r\"\\d\"\n",
    "text = \"order number 123\"\n",
    "match = re.findall(pattern, text)\n",
    "print(match)"
   ]
  },
  {
   "cell_type": "code",
   "execution_count": 13,
   "metadata": {},
   "outputs": [
    {
     "name": "stdout",
     "output_type": "stream",
     "text": [
      "['123', '1234', '1234', '12']\n"
     ]
    }
   ],
   "source": [
    "pattern = r\"\\d{2,4}\"\n",
    "text = \"123 12345 1234 12\"\n",
    "match = re.findall(pattern, text)\n",
    "print(match)"
   ]
  },
  {
   "cell_type": "code",
   "execution_count": 16,
   "metadata": {},
   "outputs": [
    {
     "name": "stdout",
     "output_type": "stream",
     "text": [
      "foo\n"
     ]
    }
   ],
   "source": [
    "#lookahead\n",
    "pattern = r\"foo(?=bar)\"\n",
    "text = \"foobar\"\n",
    "match = re.search(pattern, text)\n",
    "print(match.group())"
   ]
  },
  {
   "cell_type": "code",
   "execution_count": 15,
   "metadata": {},
   "outputs": [
    {
     "name": "stdout",
     "output_type": "stream",
     "text": [
      "bar\n"
     ]
    }
   ],
   "source": [
    "#lookbehind\n",
    "pattern = r\"(?<=foo)bar\"\n",
    "text = \"foobar\"\n",
    "match = re.search(pattern, text)\n",
    "print(match.group())"
   ]
  },
  {
   "cell_type": "code",
   "execution_count": 18,
   "metadata": {},
   "outputs": [
    {
     "name": "stdout",
     "output_type": "stream",
     "text": [
      "None\n",
      "123\n",
      "['123']\n",
      "there are *** apples\n"
     ]
    }
   ],
   "source": [
    "pattern = r\"\\d+\"\n",
    "text = \"there are 123 apples\"\n",
    "match = re.match(pattern, text)\n",
    "print(match)\n",
    "\n",
    "match = re.search(pattern, text)\n",
    "print(match.group())\n",
    "\n",
    "matches = re.findall(pattern, text)\n",
    "print(matches)\n",
    "\n",
    "replaced = re.sub(pattern, '***', text)\n",
    "print(replaced)"
   ]
  },
  {
   "cell_type": "code",
   "execution_count": 3,
   "metadata": {},
   "outputs": [],
   "source": [
    "email_text = \"\"\"\n",
    "Hi Team,\n",
    "\n",
    "Please note the following updates for our project:\n",
    "\n",
    "1. The next meeting is scheduled for 2024-08-15 at our main office. Please confirm your availability.\n",
    "2. We have received a new batch of feedback from clients. Some of the notable ones include:\n",
    "   - \"The service was excellent and the response time was quick.\"\n",
    "   - \"Please contact me at john.doe@example.com for further discussions.\"\n",
    "3. Our support team can be reached at:\n",
    "   - Phone: 123-456-7890 (John Doe)\n",
    "   - Phone: 987-654-3210 (Jane Smith)\n",
    "4. The project deadline has been moved to 2024-12-31. Ensure all deliverables are completed by then.\n",
    "5. For any urgent issues, please email support@project.com or call our hotline at 555-123-4567.\n",
    "6. The previous meeting minutes are available at 2023-07-25. Please review them before the next meeting.\n",
    "\n",
    "Best regards,\n",
    "Project Manager\n",
    "\"\"\""
   ]
  },
  {
   "cell_type": "code",
   "execution_count": 6,
   "metadata": {},
   "outputs": [
    {
     "name": "stdout",
     "output_type": "stream",
     "text": [
      "['2024-08-15', '2024-12-31', '2023-07-25']\n",
      "['123-456-7890', '987-654-3210', '555-123-4567']\n",
      "['john.doe@example.com', 'support@project.com']\n"
     ]
    }
   ],
   "source": [
    "# extract Dates: ['2024-08-15', '2024-12-31', '2023-07-25']\n",
    "date_pattern = r\"\\d{4}-\\d{2}-\\d{2}\"\n",
    "date_matches = re.findall(date_pattern, email_text)\n",
    "print(date_matches)\n",
    "\n",
    "# extract Phone Numbers: ['123-456-7890', '987-654-3210', '555-123-4567']\n",
    "phone_pattern = r\"\\d{3}-\\d{3}-\\d{4}\"\n",
    "phone_matches = re.findall(phone_pattern, email_text)\n",
    "print(phone_matches)\n",
    "\n",
    "# extract Emails: ['john.doe@example.com', 'support@project.com']\n",
    "email_pattern = r\"[A-Za-z0-9._-]+@[a-z]+.[a-z]+\"\n",
    "email_matches = re.findall(email_pattern, email_text)\n",
    "print(email_matches)"
   ]
  },
  {
   "cell_type": "markdown",
   "metadata": {},
   "source": [
    "# Regex using Pandas"
   ]
  },
  {
   "cell_type": "code",
   "execution_count": 2,
   "metadata": {},
   "outputs": [
    {
     "name": "stdout",
     "output_type": "stream",
     "text": [
      "                                              review\n",
      "0  Great product! Contact me at john.doe@example....\n",
      "1  My credit card number is 1234-5678-9101-1121. ...\n",
      "2  Wonderful service, will buy again! SSN: 987-65...\n",
      "3   Loved it! For issues, email support@company.com.\n",
      "4     Quick delivery and excellent customer support.\n",
      "5  My email is jane.doe@work.net and I had a grea...\n",
      "6  Call me at 555-123-4567 for any further questi...\n",
      "7  I lost my credit card, the number was 4321-876...\n",
      "8      SSN: 123-45-6789 should not be shared openly.\n",
      "9  Best purchase ever! Reach me at user123@domain...\n"
     ]
    }
   ],
   "source": [
    "import pandas as pd\n",
    "\n",
    "data = {\n",
    "    \"review\": [\n",
    "        \"Great product! Contact me at john.doe@example.com for more details.\",\n",
    "        \"My credit card number is 1234-5678-9101-1121. Please keep it safe.\",\n",
    "        \"Wonderful service, will buy again! SSN: 987-65-4321.\",\n",
    "        \"Loved it! For issues, email support@company.com.\",\n",
    "        \"Quick delivery and excellent customer support.\",\n",
    "        \"My email is jane.doe@work.net and I had a great experience.\",\n",
    "        \"Call me at 555-123-4567 for any further questions.\",\n",
    "        \"I lost my credit card, the number was 4321-8765-0987-6543.\",\n",
    "        \"SSN: 123-45-6789 should not be shared openly.\",\n",
    "        \"Best purchase ever! Reach me at user123@domain.org.\"\n",
    "    ]\n",
    "}\n",
    "\n",
    "df = pd.DataFrame(data)\n",
    "print(df)"
   ]
  },
  {
   "cell_type": "code",
   "execution_count": 8,
   "metadata": {},
   "outputs": [
    {
     "data": {
      "text/html": [
       "<div>\n",
       "<style scoped>\n",
       "    .dataframe tbody tr th:only-of-type {\n",
       "        vertical-align: middle;\n",
       "    }\n",
       "\n",
       "    .dataframe tbody tr th {\n",
       "        vertical-align: top;\n",
       "    }\n",
       "\n",
       "    .dataframe thead th {\n",
       "        text-align: right;\n",
       "    }\n",
       "</style>\n",
       "<table border=\"1\" class=\"dataframe\">\n",
       "  <thead>\n",
       "    <tr style=\"text-align: right;\">\n",
       "      <th></th>\n",
       "      <th>review</th>\n",
       "      <th>email</th>\n",
       "      <th>creditcard</th>\n",
       "    </tr>\n",
       "  </thead>\n",
       "  <tbody>\n",
       "    <tr>\n",
       "      <th>0</th>\n",
       "      <td>Great product! Contact me at john.doe@example....</td>\n",
       "      <td>john.doe@example.com</td>\n",
       "      <td>NaN</td>\n",
       "    </tr>\n",
       "    <tr>\n",
       "      <th>1</th>\n",
       "      <td>My credit card number is 1234-5678-9101-1121. ...</td>\n",
       "      <td>NaN</td>\n",
       "      <td>NaN</td>\n",
       "    </tr>\n",
       "    <tr>\n",
       "      <th>2</th>\n",
       "      <td>Wonderful service, will buy again! SSN: 987-65...</td>\n",
       "      <td>NaN</td>\n",
       "      <td>NaN</td>\n",
       "    </tr>\n",
       "    <tr>\n",
       "      <th>3</th>\n",
       "      <td>Loved it! For issues, email support@company.com.</td>\n",
       "      <td>support@company.com</td>\n",
       "      <td>NaN</td>\n",
       "    </tr>\n",
       "    <tr>\n",
       "      <th>4</th>\n",
       "      <td>Quick delivery and excellent customer support.</td>\n",
       "      <td>NaN</td>\n",
       "      <td>NaN</td>\n",
       "    </tr>\n",
       "    <tr>\n",
       "      <th>5</th>\n",
       "      <td>My email is jane.doe@work.net and I had a grea...</td>\n",
       "      <td>jane.doe@work.net</td>\n",
       "      <td>NaN</td>\n",
       "    </tr>\n",
       "    <tr>\n",
       "      <th>6</th>\n",
       "      <td>Call me at 555-123-4567 for any further questi...</td>\n",
       "      <td>NaN</td>\n",
       "      <td>NaN</td>\n",
       "    </tr>\n",
       "    <tr>\n",
       "      <th>7</th>\n",
       "      <td>I lost my credit card, the number was 4321-876...</td>\n",
       "      <td>NaN</td>\n",
       "      <td>NaN</td>\n",
       "    </tr>\n",
       "    <tr>\n",
       "      <th>8</th>\n",
       "      <td>SSN: 123-45-6789 should not be shared openly.</td>\n",
       "      <td>NaN</td>\n",
       "      <td>NaN</td>\n",
       "    </tr>\n",
       "    <tr>\n",
       "      <th>9</th>\n",
       "      <td>Best purchase ever! Reach me at user123@domain...</td>\n",
       "      <td>user123@domain.org</td>\n",
       "      <td>NaN</td>\n",
       "    </tr>\n",
       "  </tbody>\n",
       "</table>\n",
       "</div>"
      ],
      "text/plain": [
       "                                              review                 email  \\\n",
       "0  Great product! Contact me at john.doe@example....  john.doe@example.com   \n",
       "1  My credit card number is 1234-5678-9101-1121. ...                   NaN   \n",
       "2  Wonderful service, will buy again! SSN: 987-65...                   NaN   \n",
       "3   Loved it! For issues, email support@company.com.   support@company.com   \n",
       "4     Quick delivery and excellent customer support.                   NaN   \n",
       "5  My email is jane.doe@work.net and I had a grea...     jane.doe@work.net   \n",
       "6  Call me at 555-123-4567 for any further questi...                   NaN   \n",
       "7  I lost my credit card, the number was 4321-876...                   NaN   \n",
       "8      SSN: 123-45-6789 should not be shared openly.                   NaN   \n",
       "9  Best purchase ever! Reach me at user123@domain...    user123@domain.org   \n",
       "\n",
       "  creditcard  \n",
       "0        NaN  \n",
       "1        NaN  \n",
       "2        NaN  \n",
       "3        NaN  \n",
       "4        NaN  \n",
       "5        NaN  \n",
       "6        NaN  \n",
       "7        NaN  \n",
       "8        NaN  \n",
       "9        NaN  "
      ]
     },
     "metadata": {},
     "output_type": "display_data"
    }
   ],
   "source": [
    "df['email'] = df['review'].str.extract(r\"(\\b[A-Za-z0-9._-]+@[a-z]+.[a-z]+\\b)\")\n",
    "display(df)"
   ]
  },
  {
   "cell_type": "code",
   "execution_count": 12,
   "metadata": {},
   "outputs": [
    {
     "data": {
      "text/html": [
       "<div>\n",
       "<style scoped>\n",
       "    .dataframe tbody tr th:only-of-type {\n",
       "        vertical-align: middle;\n",
       "    }\n",
       "\n",
       "    .dataframe tbody tr th {\n",
       "        vertical-align: top;\n",
       "    }\n",
       "\n",
       "    .dataframe thead th {\n",
       "        text-align: right;\n",
       "    }\n",
       "</style>\n",
       "<table border=\"1\" class=\"dataframe\">\n",
       "  <thead>\n",
       "    <tr style=\"text-align: right;\">\n",
       "      <th></th>\n",
       "      <th>review</th>\n",
       "      <th>email</th>\n",
       "      <th>creditcard</th>\n",
       "    </tr>\n",
       "  </thead>\n",
       "  <tbody>\n",
       "    <tr>\n",
       "      <th>0</th>\n",
       "      <td>Great product! Contact me at john.doe@example....</td>\n",
       "      <td>john.doe@example.com</td>\n",
       "      <td>NaN</td>\n",
       "    </tr>\n",
       "    <tr>\n",
       "      <th>1</th>\n",
       "      <td>My credit card number is 1234-5678-9101-1121. ...</td>\n",
       "      <td>NaN</td>\n",
       "      <td>1234-5678-9101-1121</td>\n",
       "    </tr>\n",
       "    <tr>\n",
       "      <th>2</th>\n",
       "      <td>Wonderful service, will buy again! SSN: 987-65...</td>\n",
       "      <td>NaN</td>\n",
       "      <td>NaN</td>\n",
       "    </tr>\n",
       "    <tr>\n",
       "      <th>3</th>\n",
       "      <td>Loved it! For issues, email support@company.com.</td>\n",
       "      <td>support@company.com</td>\n",
       "      <td>NaN</td>\n",
       "    </tr>\n",
       "    <tr>\n",
       "      <th>4</th>\n",
       "      <td>Quick delivery and excellent customer support.</td>\n",
       "      <td>NaN</td>\n",
       "      <td>NaN</td>\n",
       "    </tr>\n",
       "    <tr>\n",
       "      <th>5</th>\n",
       "      <td>My email is jane.doe@work.net and I had a grea...</td>\n",
       "      <td>jane.doe@work.net</td>\n",
       "      <td>NaN</td>\n",
       "    </tr>\n",
       "    <tr>\n",
       "      <th>6</th>\n",
       "      <td>Call me at 555-123-4567 for any further questi...</td>\n",
       "      <td>NaN</td>\n",
       "      <td>NaN</td>\n",
       "    </tr>\n",
       "    <tr>\n",
       "      <th>7</th>\n",
       "      <td>I lost my credit card, the number was 4321-876...</td>\n",
       "      <td>NaN</td>\n",
       "      <td>4321-8765-0987-6543</td>\n",
       "    </tr>\n",
       "    <tr>\n",
       "      <th>8</th>\n",
       "      <td>SSN: 123-45-6789 should not be shared openly.</td>\n",
       "      <td>NaN</td>\n",
       "      <td>NaN</td>\n",
       "    </tr>\n",
       "    <tr>\n",
       "      <th>9</th>\n",
       "      <td>Best purchase ever! Reach me at user123@domain...</td>\n",
       "      <td>user123@domain.org</td>\n",
       "      <td>NaN</td>\n",
       "    </tr>\n",
       "  </tbody>\n",
       "</table>\n",
       "</div>"
      ],
      "text/plain": [
       "                                              review                 email  \\\n",
       "0  Great product! Contact me at john.doe@example....  john.doe@example.com   \n",
       "1  My credit card number is 1234-5678-9101-1121. ...                   NaN   \n",
       "2  Wonderful service, will buy again! SSN: 987-65...                   NaN   \n",
       "3   Loved it! For issues, email support@company.com.   support@company.com   \n",
       "4     Quick delivery and excellent customer support.                   NaN   \n",
       "5  My email is jane.doe@work.net and I had a grea...     jane.doe@work.net   \n",
       "6  Call me at 555-123-4567 for any further questi...                   NaN   \n",
       "7  I lost my credit card, the number was 4321-876...                   NaN   \n",
       "8      SSN: 123-45-6789 should not be shared openly.                   NaN   \n",
       "9  Best purchase ever! Reach me at user123@domain...    user123@domain.org   \n",
       "\n",
       "            creditcard  \n",
       "0                  NaN  \n",
       "1  1234-5678-9101-1121  \n",
       "2                  NaN  \n",
       "3                  NaN  \n",
       "4                  NaN  \n",
       "5                  NaN  \n",
       "6                  NaN  \n",
       "7  4321-8765-0987-6543  \n",
       "8                  NaN  \n",
       "9                  NaN  "
      ]
     },
     "metadata": {},
     "output_type": "display_data"
    }
   ],
   "source": [
    "df['creditcard'] = df['review'].str.extract(r\"(\\b\\d{4}-\\d{4}-\\d{4}-\\d{4}\\b)\")\n",
    "display(df)"
   ]
  },
  {
   "cell_type": "code",
   "execution_count": 16,
   "metadata": {},
   "outputs": [
    {
     "data": {
      "text/html": [
       "<div>\n",
       "<style scoped>\n",
       "    .dataframe tbody tr th:only-of-type {\n",
       "        vertical-align: middle;\n",
       "    }\n",
       "\n",
       "    .dataframe tbody tr th {\n",
       "        vertical-align: top;\n",
       "    }\n",
       "\n",
       "    .dataframe thead th {\n",
       "        text-align: right;\n",
       "    }\n",
       "</style>\n",
       "<table border=\"1\" class=\"dataframe\">\n",
       "  <thead>\n",
       "    <tr style=\"text-align: right;\">\n",
       "      <th></th>\n",
       "      <th>review</th>\n",
       "      <th>email</th>\n",
       "      <th>creditcard</th>\n",
       "      <th>redact</th>\n",
       "    </tr>\n",
       "  </thead>\n",
       "  <tbody>\n",
       "    <tr>\n",
       "      <th>0</th>\n",
       "      <td>Great product! Contact me at john.doe@example....</td>\n",
       "      <td>john.doe@example.com</td>\n",
       "      <td>NaN</td>\n",
       "      <td>Great product! Contact me at [REDACTED_EMAIL] ...</td>\n",
       "    </tr>\n",
       "    <tr>\n",
       "      <th>1</th>\n",
       "      <td>My credit card number is 1234-5678-9101-1121. ...</td>\n",
       "      <td>NaN</td>\n",
       "      <td>1234-5678-9101-1121</td>\n",
       "      <td>My credit card number is 1234-5678-9101-1121. ...</td>\n",
       "    </tr>\n",
       "    <tr>\n",
       "      <th>2</th>\n",
       "      <td>Wonderful service, will buy again! SSN: 987-65...</td>\n",
       "      <td>NaN</td>\n",
       "      <td>NaN</td>\n",
       "      <td>Wonderful service, will buy again! SSN: 987-65...</td>\n",
       "    </tr>\n",
       "    <tr>\n",
       "      <th>3</th>\n",
       "      <td>Loved it! For issues, email support@company.com.</td>\n",
       "      <td>support@company.com</td>\n",
       "      <td>NaN</td>\n",
       "      <td>Loved it! For issues, email [REDACTED_EMAIL].</td>\n",
       "    </tr>\n",
       "    <tr>\n",
       "      <th>4</th>\n",
       "      <td>Quick delivery and excellent customer support.</td>\n",
       "      <td>NaN</td>\n",
       "      <td>NaN</td>\n",
       "      <td>Quick delivery and excellent customer support.</td>\n",
       "    </tr>\n",
       "    <tr>\n",
       "      <th>5</th>\n",
       "      <td>My email is jane.doe@work.net and I had a grea...</td>\n",
       "      <td>jane.doe@work.net</td>\n",
       "      <td>NaN</td>\n",
       "      <td>My email is [REDACTED_EMAIL] and I had a great...</td>\n",
       "    </tr>\n",
       "    <tr>\n",
       "      <th>6</th>\n",
       "      <td>Call me at 555-123-4567 for any further questi...</td>\n",
       "      <td>NaN</td>\n",
       "      <td>NaN</td>\n",
       "      <td>Call me at 555-123-4567 for any further questi...</td>\n",
       "    </tr>\n",
       "    <tr>\n",
       "      <th>7</th>\n",
       "      <td>I lost my credit card, the number was 4321-876...</td>\n",
       "      <td>NaN</td>\n",
       "      <td>4321-8765-0987-6543</td>\n",
       "      <td>I lost my credit card, the number was 4321-876...</td>\n",
       "    </tr>\n",
       "    <tr>\n",
       "      <th>8</th>\n",
       "      <td>SSN: 123-45-6789 should not be shared openly.</td>\n",
       "      <td>NaN</td>\n",
       "      <td>NaN</td>\n",
       "      <td>SSN: 123-45-6789 should not be shared openly.</td>\n",
       "    </tr>\n",
       "    <tr>\n",
       "      <th>9</th>\n",
       "      <td>Best purchase ever! Reach me at user123@domain...</td>\n",
       "      <td>user123@domain.org</td>\n",
       "      <td>NaN</td>\n",
       "      <td>Best purchase ever! Reach me at [REDACTED_EMAIL].</td>\n",
       "    </tr>\n",
       "  </tbody>\n",
       "</table>\n",
       "</div>"
      ],
      "text/plain": [
       "                                              review                 email  \\\n",
       "0  Great product! Contact me at john.doe@example....  john.doe@example.com   \n",
       "1  My credit card number is 1234-5678-9101-1121. ...                   NaN   \n",
       "2  Wonderful service, will buy again! SSN: 987-65...                   NaN   \n",
       "3   Loved it! For issues, email support@company.com.   support@company.com   \n",
       "4     Quick delivery and excellent customer support.                   NaN   \n",
       "5  My email is jane.doe@work.net and I had a grea...     jane.doe@work.net   \n",
       "6  Call me at 555-123-4567 for any further questi...                   NaN   \n",
       "7  I lost my credit card, the number was 4321-876...                   NaN   \n",
       "8      SSN: 123-45-6789 should not be shared openly.                   NaN   \n",
       "9  Best purchase ever! Reach me at user123@domain...    user123@domain.org   \n",
       "\n",
       "            creditcard                                             redact  \n",
       "0                  NaN  Great product! Contact me at [REDACTED_EMAIL] ...  \n",
       "1  1234-5678-9101-1121  My credit card number is 1234-5678-9101-1121. ...  \n",
       "2                  NaN  Wonderful service, will buy again! SSN: 987-65...  \n",
       "3                  NaN      Loved it! For issues, email [REDACTED_EMAIL].  \n",
       "4                  NaN     Quick delivery and excellent customer support.  \n",
       "5                  NaN  My email is [REDACTED_EMAIL] and I had a great...  \n",
       "6                  NaN  Call me at 555-123-4567 for any further questi...  \n",
       "7  4321-8765-0987-6543  I lost my credit card, the number was 4321-876...  \n",
       "8                  NaN      SSN: 123-45-6789 should not be shared openly.  \n",
       "9                  NaN  Best purchase ever! Reach me at [REDACTED_EMAIL].  "
      ]
     },
     "metadata": {},
     "output_type": "display_data"
    }
   ],
   "source": [
    "df['redact'] = df['review'].str.replace(r\"(\\b[A-Za-z0-9._-]+@[a-z]+.[a-z]+\\b)\", \"[REDACTED_EMAIL]\", regex=True)\n",
    "display(df)"
   ]
  },
  {
   "cell_type": "code",
   "execution_count": 19,
   "metadata": {},
   "outputs": [
    {
     "data": {
      "text/html": [
       "<div>\n",
       "<style scoped>\n",
       "    .dataframe tbody tr th:only-of-type {\n",
       "        vertical-align: middle;\n",
       "    }\n",
       "\n",
       "    .dataframe tbody tr th {\n",
       "        vertical-align: top;\n",
       "    }\n",
       "\n",
       "    .dataframe thead th {\n",
       "        text-align: right;\n",
       "    }\n",
       "</style>\n",
       "<table border=\"1\" class=\"dataframe\">\n",
       "  <thead>\n",
       "    <tr style=\"text-align: right;\">\n",
       "      <th></th>\n",
       "      <th>review</th>\n",
       "    </tr>\n",
       "  </thead>\n",
       "  <tbody>\n",
       "    <tr>\n",
       "      <th>0</th>\n",
       "      <td>Great product! Contact me at [REDACTED_EMAIL] ...</td>\n",
       "    </tr>\n",
       "    <tr>\n",
       "      <th>1</th>\n",
       "      <td>My credit card number is [REDACTED_CC]. Please...</td>\n",
       "    </tr>\n",
       "    <tr>\n",
       "      <th>2</th>\n",
       "      <td>Wonderful service, will buy again! SSN: 987-65...</td>\n",
       "    </tr>\n",
       "    <tr>\n",
       "      <th>3</th>\n",
       "      <td>Loved it! For issues, email [REDACTED_EMAIL].</td>\n",
       "    </tr>\n",
       "    <tr>\n",
       "      <th>4</th>\n",
       "      <td>Quick delivery and excellent customer support.</td>\n",
       "    </tr>\n",
       "    <tr>\n",
       "      <th>5</th>\n",
       "      <td>My email is [REDACTED_EMAIL] and I had a great...</td>\n",
       "    </tr>\n",
       "    <tr>\n",
       "      <th>6</th>\n",
       "      <td>Call me at 555-123-4567 for any further questi...</td>\n",
       "    </tr>\n",
       "    <tr>\n",
       "      <th>7</th>\n",
       "      <td>I lost my credit card, the number was [REDACTE...</td>\n",
       "    </tr>\n",
       "    <tr>\n",
       "      <th>8</th>\n",
       "      <td>SSN: 123-45-6789 should not be shared openly.</td>\n",
       "    </tr>\n",
       "    <tr>\n",
       "      <th>9</th>\n",
       "      <td>Best purchase ever! Reach me at [REDACTED_EMAIL].</td>\n",
       "    </tr>\n",
       "  </tbody>\n",
       "</table>\n",
       "</div>"
      ],
      "text/plain": [
       "                                              review\n",
       "0  Great product! Contact me at [REDACTED_EMAIL] ...\n",
       "1  My credit card number is [REDACTED_CC]. Please...\n",
       "2  Wonderful service, will buy again! SSN: 987-65...\n",
       "3      Loved it! For issues, email [REDACTED_EMAIL].\n",
       "4     Quick delivery and excellent customer support.\n",
       "5  My email is [REDACTED_EMAIL] and I had a great...\n",
       "6  Call me at 555-123-4567 for any further questi...\n",
       "7  I lost my credit card, the number was [REDACTE...\n",
       "8      SSN: 123-45-6789 should not be shared openly.\n",
       "9  Best purchase ever! Reach me at [REDACTED_EMAIL]."
      ]
     },
     "metadata": {},
     "output_type": "display_data"
    }
   ],
   "source": [
    "output = pd.DataFrame(df['redact'])\n",
    "output['redact'] = df['redact'].str.replace(r\"(\\b\\d{4}-\\d{4}-\\d{4}-\\d{4}\\b)\", \"[REDACTED_CC]\", regex=True)\n",
    "output.rename(columns={'redact':'review'}, inplace =True)\n",
    "display(output)\n"
   ]
  },
  {
   "cell_type": "code",
   "execution_count": 21,
   "metadata": {},
   "outputs": [
    {
     "name": "stdout",
     "output_type": "stream",
     "text": [
      "\n",
      "CSV String:\n",
      " None\n"
     ]
    }
   ],
   "source": [
    "review_csv = output.to_csv('redacted_reviews.csv', index = False)"
   ]
  },
  {
   "cell_type": "code",
   "execution_count": null,
   "metadata": {},
   "outputs": [],
   "source": []
  }
 ],
 "metadata": {
  "kernelspec": {
   "display_name": "Python 3",
   "language": "python",
   "name": "python3"
  },
  "language_info": {
   "codemirror_mode": {
    "name": "ipython",
    "version": 3
   },
   "file_extension": ".py",
   "mimetype": "text/x-python",
   "name": "python",
   "nbconvert_exporter": "python",
   "pygments_lexer": "ipython3",
   "version": "3.10.13"
  }
 },
 "nbformat": 4,
 "nbformat_minor": 2
}
