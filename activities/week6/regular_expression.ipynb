{
 "cells": [
  {
   "cell_type": "code",
   "execution_count": 1,
   "metadata": {},
   "outputs": [
    {
     "name": "stdout",
     "output_type": "stream",
     "text": [
      "AIServices.ipynb      case_study_diagram.png\ttest.csv\n",
      "aws.cfg\t\t      lab1.ipynb\t\tweek6_lab4.jpg\n",
      "awswranglerLab.ipynb  regular_expression.ipynb\n",
      "boto3.ipynb\t      sentiment_graph.jpeg\n"
     ]
    }
   ],
   "source": [
    "!ls"
   ]
  },
  {
   "cell_type": "code",
   "execution_count": 2,
   "metadata": {},
   "outputs": [
    {
     "name": "stdout",
     "output_type": "stream",
     "text": [
      "/workspaces/techcatalyst-de-AB/activities/week6\n"
     ]
    }
   ],
   "source": [
    "!pwd"
   ]
  },
  {
   "cell_type": "code",
   "execution_count": 3,
   "metadata": {},
   "outputs": [
    {
     "name": "stdout",
     "output_type": "stream",
     "text": [
      "\u001b[01;34m.\u001b[00m\n",
      "├── AIServices.ipynb\n",
      "├── aws.cfg\n",
      "├── awswranglerLab.ipynb\n",
      "├── boto3.ipynb\n",
      "├── case_study_diagram.png\n",
      "├── lab1.ipynb\n",
      "├── regular_expression.ipynb\n",
      "├── \u001b[01;35msentiment_graph.jpeg\u001b[00m\n",
      "├── test.csv\n",
      "└── \u001b[01;35mweek6_lab4.jpg\u001b[00m\n",
      "\n",
      "0 directories, 10 files\n"
     ]
    }
   ],
   "source": [
    "!tree"
   ]
  },
  {
   "cell_type": "code",
   "execution_count": 4,
   "metadata": {},
   "outputs": [
    {
     "name": "stdout",
     "output_type": "stream",
     "text": [
      "total 500\n",
      "-rw-rw-rw- 1 codespace codespace  89872 Jul 22 15:08 boto3.ipynb\n",
      "-rw-rw-rw- 1 codespace codespace    326 Jul 22 19:06 test.csv\n",
      "-rw-rw-rw- 1 codespace codespace  52034 Jul 22 19:08 lab1.ipynb\n",
      "-rw-rw-rw- 1 codespace codespace  57704 Jul 23 14:20 week6_lab4.jpg\n",
      "-rw-rw-rw- 1 codespace codespace  67634 Jul 23 15:54 awswranglerLab.ipynb\n",
      "-rw-rw-rw- 1 codespace codespace 149023 Jul 25 19:11 case_study_diagram.png\n",
      "-rw-rw-rw- 1 codespace codespace    133 Jul 25 20:08 aws.cfg\n",
      "-rw-rw-rw- 1 codespace codespace  18434 Jul 25 20:44 sentiment_graph.jpeg\n",
      "-rw-rw-rw- 1 codespace codespace  52111 Jul 26 13:46 AIServices.ipynb\n",
      "-rw-rw-rw- 1 codespace codespace   1997 Jul 26 13:46 regular_expression.ipynb\n"
     ]
    }
   ],
   "source": [
    "!ls -lrt"
   ]
  },
  {
   "cell_type": "code",
   "execution_count": 7,
   "metadata": {},
   "outputs": [
    {
     "name": "stdout",
     "output_type": "stream",
     "text": [
      "Name,favorite_num\n"
     ]
    }
   ],
   "source": [
    "!grep \"favorite_num\" test.csv"
   ]
  },
  {
   "cell_type": "code",
   "execution_count": 12,
   "metadata": {},
   "outputs": [
    {
     "name": "stdout",
     "output_type": "stream",
     "text": [
      "./lab1.ipynb\n",
      "./AIServices.ipynb\n",
      "./boto3.ipynb\n",
      "./awswranglerLab.ipynb\n",
      "./regular_expression.ipynb\n"
     ]
    }
   ],
   "source": [
    "!find . -name \"*.ipynb\""
   ]
  },
  {
   "cell_type": "code",
   "execution_count": null,
   "metadata": {},
   "outputs": [],
   "source": []
  }
 ],
 "metadata": {
  "kernelspec": {
   "display_name": "Python 3",
   "language": "python",
   "name": "python3"
  },
  "language_info": {
   "codemirror_mode": {
    "name": "ipython",
    "version": 3
   },
   "file_extension": ".py",
   "mimetype": "text/x-python",
   "name": "python",
   "nbconvert_exporter": "python",
   "pygments_lexer": "ipython3",
   "version": "3.10.13"
  }
 },
 "nbformat": 4,
 "nbformat_minor": 2
}
